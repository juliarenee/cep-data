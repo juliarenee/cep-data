{
 "cells": [
  {
   "cell_type": "markdown",
   "metadata": {},
   "source": [
    "# Two federal programs at odds\n",
    "## School lunch debt in Durham Public Schools and competition between CEP and Title I"
   ]
  },
  {
   "cell_type": "code",
   "execution_count": 164,
   "metadata": {},
   "outputs": [],
   "source": [
    "# Load packages\n",
    "require(ggplot2)\n",
    "require(dplyr)\n",
    "require(tidyr)\n",
    "require(knitr)\n",
    "require(stringr)\n",
    "\n",
    "# Load lunch debt and 2018-19 banding data\n",
    "debt = read.csv('./data/meal_debt.csv')\n",
    "bands = read.csv('./data/banding_1718.csv')\n",
    "\n",
    "# Load CEP eligibility data\n",
    "# File names as list\n",
    "cep.list = list.files('./data') %>%\n",
    "    grep('cep', ., value=TRUE) %>%\n",
    "    paste('./data/', ., sep='')\n",
    "\n",
    "# Read files\n",
    "cep.dat = lapply(cep.list, function(x) read.csv(x))\n",
    "\n",
    "# Add year\n",
    "year = c('2014-15', '2015-16', '2016-17', '2017-18', '2018-19')\n",
    "for(i in 1:length(cep.dat)) {\n",
    "  cep.dat[[i]]$year = year[i]\n",
    "}\n",
    "                 \n",
    "# Merge to one dataset\n",
    "cep = do.call(plyr::rbind.fill, cep.dat)\n",
    "                 \n",
    "# Filter to Durham\n",
    "cep = cep %>%\n",
    "    filter(lea_no == 320)\n",
    "\n",
    "# Add missing school numbers for 2014-15 CEP eligibility data\n",
    "school_no_key = cep %>%\n",
    "  filter(!is.na(school_no)) %>%\n",
    "  select(school_name, school_no) %>%\n",
    "  unique()\n",
    "school_key = school_no_key$school_no\n",
    "names(school_key) = school_no_key$school_name  \n",
    "\n",
    "cep$school_no[cep$year=='2014-15'] = school_key[cep$school_name[cep$year=='2014-15']] %>% unlist() %>% as.vector()           \n",
    "\n",
    "# Control for data types\n",
    "cep$school_no = cep$school_no %>% as.character()\n",
    "debt$school_no = debt$school_no %>% as.character()\n",
    "                 \n",
    "# Indicator for CEP eligibility, participation\n",
    "cep$eligible[grep('X', cep$eligible)] = 1\n",
    "cep$eligible[cep$eligible!=1] = 0\n",
    "cep$eligible = cep$eligible %>% as.numeric()\n",
    "\n",
    "cep$participating[grep('X', cep$participating)] = 1\n",
    "cep$participating[cep$participating!=1] = 0\n",
    "cep$participating = cep$participating %>% as.numeric()\n",
    "\n",
    "# Remove unnecessary columns\n",
    "cep = cep %>% subset(., select=-c(lea_name, lea_no))\n",
    "\n",
    "# Control for conflicting school names                 \n",
    "debt = debt %>% subset(., select=-c(school_name))\n",
    "                 \n",
    "# Merge lunch debt and CEP data\n",
    "df = left_join(debt, cep, by = c('school_no', 'year'))\n",
    "                 \n",
    "# Fill missing names from CEP data\n",
    "school_key2 = names(school_key)\n",
    "names(school_key2) = school_no_key$school_no\n",
    "df$school_name[is.na(df$school_name)] = school_key2[df$school_no[is.na(df$school_name)]] %>% unlist() %>% as.vector()\n",
    "                 \n",
    "# remove DPS hospital school since non-standard school\n",
    "df = df[-which(df$school_name==\"DPS Hospital School\"),]\n",
    "\n",
    "# remove 389, 700 since no longer active\n",
    "# remove 353, housed in Durham Tech\n",
    "df = df[-which(df$school_no %in% c(389, 700, 353)),]"
   ]
  },
  {
   "cell_type": "markdown",
   "metadata": {},
   "source": [
    "### School lunch debt and CEP"
   ]
  },
  {
   "cell_type": "code",
   "execution_count": 165,
   "metadata": {},
   "outputs": [
    {
     "data": {
      "text/html": [
       "<table>\n",
       "<caption>A tibble: 8 × 2</caption>\n",
       "<thead>\n",
       "\t<tr><th scope=col>year</th><th scope=col>debt</th></tr>\n",
       "\t<tr><th scope=col>&lt;chr&gt;</th><th scope=col>&lt;dbl&gt;</th></tr>\n",
       "</thead>\n",
       "<tbody>\n",
       "\t<tr><td>2010-11</td><td>204692.22</td></tr>\n",
       "\t<tr><td>2011-12</td><td>112706.47</td></tr>\n",
       "\t<tr><td>2012-13</td><td>117526.02</td></tr>\n",
       "\t<tr><td>2013-14</td><td>108231.05</td></tr>\n",
       "\t<tr><td>2014-15</td><td> 85092.75</td></tr>\n",
       "\t<tr><td>2015-16</td><td> 78428.06</td></tr>\n",
       "\t<tr><td>2016-17</td><td>127939.71</td></tr>\n",
       "\t<tr><td>2017-18</td><td>209021.50</td></tr>\n",
       "</tbody>\n",
       "</table>\n"
      ],
      "text/latex": [
       "A tibble: 8 × 2\n",
       "\\begin{tabular}{r|ll}\n",
       " year & debt\\\\\n",
       " <chr> & <dbl>\\\\\n",
       "\\hline\n",
       "\t 2010-11 & 204692.22\\\\\n",
       "\t 2011-12 & 112706.47\\\\\n",
       "\t 2012-13 & 117526.02\\\\\n",
       "\t 2013-14 & 108231.05\\\\\n",
       "\t 2014-15 &  85092.75\\\\\n",
       "\t 2015-16 &  78428.06\\\\\n",
       "\t 2016-17 & 127939.71\\\\\n",
       "\t 2017-18 & 209021.50\\\\\n",
       "\\end{tabular}\n"
      ],
      "text/markdown": [
       "\n",
       "A tibble: 8 × 2\n",
       "\n",
       "| year &lt;chr&gt; | debt &lt;dbl&gt; |\n",
       "|---|---|\n",
       "| 2010-11 | 204692.22 |\n",
       "| 2011-12 | 112706.47 |\n",
       "| 2012-13 | 117526.02 |\n",
       "| 2013-14 | 108231.05 |\n",
       "| 2014-15 |  85092.75 |\n",
       "| 2015-16 |  78428.06 |\n",
       "| 2016-17 | 127939.71 |\n",
       "| 2017-18 | 209021.50 |\n",
       "\n"
      ],
      "text/plain": [
       "  year    debt     \n",
       "1 2010-11 204692.22\n",
       "2 2011-12 112706.47\n",
       "3 2012-13 117526.02\n",
       "4 2013-14 108231.05\n",
       "5 2014-15  85092.75\n",
       "6 2015-16  78428.06\n",
       "7 2016-17 127939.71\n",
       "8 2017-18 209021.50"
      ]
     },
     "metadata": {},
     "output_type": "display_data"
    }
   ],
   "source": [
    "df %>%\n",
    "    group_by(year) %>%\n",
    "    summarise(debt = sum(unpaid))"
   ]
  },
  {
   "cell_type": "markdown",
   "metadata": {},
   "source": [
    "Last school year, Durham public schools had just over $209,000 in school lunch debt--the most the district has seen in the past eight years."
   ]
  },
  {
   "cell_type": "code",
   "execution_count": 166,
   "metadata": {},
   "outputs": [
    {
     "data": {
      "text/html": [
       "<table>\n",
       "<caption>A tibble: 8 × 3</caption>\n",
       "<thead>\n",
       "\t<tr><th scope=col>year</th><th scope=col>eligible</th><th scope=col>paricipating</th></tr>\n",
       "\t<tr><th scope=col>&lt;chr&gt;</th><th scope=col>&lt;dbl&gt;</th><th scope=col>&lt;dbl&gt;</th></tr>\n",
       "</thead>\n",
       "<tbody>\n",
       "\t<tr><td>2010-11</td><td> 0</td><td> 0</td></tr>\n",
       "\t<tr><td>2011-12</td><td> 0</td><td> 0</td></tr>\n",
       "\t<tr><td>2012-13</td><td> 0</td><td> 0</td></tr>\n",
       "\t<tr><td>2013-14</td><td> 0</td><td> 0</td></tr>\n",
       "\t<tr><td>2014-15</td><td>25</td><td> 0</td></tr>\n",
       "\t<tr><td>2015-16</td><td>27</td><td>10</td></tr>\n",
       "\t<tr><td>2016-17</td><td>28</td><td>12</td></tr>\n",
       "\t<tr><td>2017-18</td><td>25</td><td>13</td></tr>\n",
       "</tbody>\n",
       "</table>\n"
      ],
      "text/latex": [
       "A tibble: 8 × 3\n",
       "\\begin{tabular}{r|lll}\n",
       " year & eligible & paricipating\\\\\n",
       " <chr> & <dbl> & <dbl>\\\\\n",
       "\\hline\n",
       "\t 2010-11 &  0 &  0\\\\\n",
       "\t 2011-12 &  0 &  0\\\\\n",
       "\t 2012-13 &  0 &  0\\\\\n",
       "\t 2013-14 &  0 &  0\\\\\n",
       "\t 2014-15 & 25 &  0\\\\\n",
       "\t 2015-16 & 27 & 10\\\\\n",
       "\t 2016-17 & 28 & 12\\\\\n",
       "\t 2017-18 & 25 & 13\\\\\n",
       "\\end{tabular}\n"
      ],
      "text/markdown": [
       "\n",
       "A tibble: 8 × 3\n",
       "\n",
       "| year &lt;chr&gt; | eligible &lt;dbl&gt; | paricipating &lt;dbl&gt; |\n",
       "|---|---|---|\n",
       "| 2010-11 |  0 |  0 |\n",
       "| 2011-12 |  0 |  0 |\n",
       "| 2012-13 |  0 |  0 |\n",
       "| 2013-14 |  0 |  0 |\n",
       "| 2014-15 | 25 |  0 |\n",
       "| 2015-16 | 27 | 10 |\n",
       "| 2016-17 | 28 | 12 |\n",
       "| 2017-18 | 25 | 13 |\n",
       "\n"
      ],
      "text/plain": [
       "  year    eligible paricipating\n",
       "1 2010-11  0        0          \n",
       "2 2011-12  0        0          \n",
       "3 2012-13  0        0          \n",
       "4 2013-14  0        0          \n",
       "5 2014-15 25        0          \n",
       "6 2015-16 27       10          \n",
       "7 2016-17 28       12          \n",
       "8 2017-18 25       13          "
      ]
     },
     "metadata": {},
     "output_type": "display_data"
    }
   ],
   "source": [
    "df %>%\n",
    "    group_by(year) %>%\n",
    "    summarise(eligible = sum(eligible, na.rm = TRUE),\n",
    "             paricipating = sum(participating, na.rm = TRUE))"
   ]
  },
  {
   "cell_type": "markdown",
   "metadata": {},
   "source": [
    "Last year, 12 of the 25 schools eligible for CEP did not participate in the program."
   ]
  },
  {
   "cell_type": "code",
   "execution_count": 167,
   "metadata": {},
   "outputs": [
    {
     "data": {
      "text/html": [
       "0.235294117647059"
      ],
      "text/latex": [
       "0.235294117647059"
      ],
      "text/markdown": [
       "0.235294117647059"
      ],
      "text/plain": [
       "[1] 0.2352941"
      ]
     },
     "metadata": {},
     "output_type": "display_data"
    },
    {
     "data": {
      "text/html": [
       "0.381162272780551"
      ],
      "text/latex": [
       "0.381162272780551"
      ],
      "text/markdown": [
       "0.381162272780551"
      ],
      "text/plain": [
       "[1] 0.3811623"
      ]
     },
     "metadata": {},
     "output_type": "display_data"
    }
   ],
   "source": [
    "# What percent of schools are eligible and not participating in CEP?\n",
    "n = df %>%\n",
    "    filter(year=='2017-18') %>%\n",
    "    nrow()\n",
    "12/n\n",
    "\n",
    "# Percent of debt\n",
    "enp_debt = df %>%\n",
    "    filter(year=='2017-18',\n",
    "          eligible==1,\n",
    "          participating==0) %>%\n",
    "    select(unpaid) %>%\n",
    "    sum(.)\n",
    "debt_1718 = sum(df$unpaid[df$year=='2017-18'])\n",
    "enp_debt/debt_1718"
   ]
  },
  {
   "cell_type": "markdown",
   "metadata": {},
   "source": [
    "Last year, 24 percent of schools account for just under 40 percent of all unpaid meals. They were all eligible, but not participating in CEP."
   ]
  },
  {
   "cell_type": "markdown",
   "metadata": {},
   "source": [
    "### CEP and Title I"
   ]
  }
 ],
 "metadata": {
  "kernelspec": {
   "display_name": "R",
   "language": "R",
   "name": "ir"
  },
  "language_info": {
   "codemirror_mode": "r",
   "file_extension": ".r",
   "mimetype": "text/x-r-source",
   "name": "R",
   "pygments_lexer": "r",
   "version": "3.6.0"
  }
 },
 "nbformat": 4,
 "nbformat_minor": 2
}

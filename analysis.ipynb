{
 "cells": [
  {
   "cell_type": "markdown",
   "metadata": {},
   "source": [
    "# Two federal programs at odds\n",
    "## School lunch debt in Durham Public Schools and competition between CEP and Title I"
   ]
  },
  {
   "cell_type": "code",
   "execution_count": 1,
   "metadata": {},
   "outputs": [
    {
     "name": "stderr",
     "output_type": "stream",
     "text": [
      "Loading required package: ggplot2\n",
      "Registered S3 methods overwritten by 'ggplot2':\n",
      "  method         from \n",
      "  [.quosures     rlang\n",
      "  c.quosures     rlang\n",
      "  print.quosures rlang\n",
      "Loading required package: dplyr\n",
      "\n",
      "Attaching package: ‘dplyr’\n",
      "\n",
      "The following objects are masked from ‘package:stats’:\n",
      "\n",
      "    filter, lag\n",
      "\n",
      "The following objects are masked from ‘package:base’:\n",
      "\n",
      "    intersect, setdiff, setequal, union\n",
      "\n",
      "Loading required package: tidyr\n",
      "Loading required package: knitr\n",
      "Loading required package: stringr\n"
     ]
    }
   ],
   "source": [
    "# Load packages\n",
    "require(ggplot2)\n",
    "require(dplyr)\n",
    "require(tidyr)\n",
    "require(knitr)\n",
    "require(stringr)\n",
    "\n",
    "# Do not read strings as factors\n",
    "# No scientific notation\n",
    "options(stringsAsFactors = FALSE, scipen = 999)\n",
    "\n",
    "# Load lunch debt and 2018-19 banding data\n",
    "debt = read.csv('./data/meal_debt.csv')\n",
    "bands = read.csv('./data/banding_1718.csv')\n",
    "\n",
    "# Load CEP eligibility data\n",
    "# File names as list\n",
    "cep.list = list.files('./data') %>%\n",
    "    grep('cep', ., value=TRUE) %>%\n",
    "    paste('./data/', ., sep='')\n",
    "\n",
    "# Read files\n",
    "cep.dat = lapply(cep.list, function(x) read.csv(x))\n",
    "\n",
    "# Add year\n",
    "year = c('2014-15', '2015-16', '2016-17', '2017-18', '2018-19')\n",
    "for(i in 1:length(cep.dat)) {\n",
    "  cep.dat[[i]]$year = year[i]\n",
    "}\n",
    "                 \n",
    "# Merge to one dataset\n",
    "cep = do.call(plyr::rbind.fill, cep.dat)\n",
    "                 \n",
    "# Filter to Durham\n",
    "cep = cep %>%\n",
    "    filter(lea_no == 320)\n",
    "\n",
    "# Add missing school numbers for 2014-15 CEP eligibility data\n",
    "school_no_key = cep %>%\n",
    "  filter(!is.na(school_no)) %>%\n",
    "  select(school_name, school_no) %>%\n",
    "  unique()\n",
    "school_key = school_no_key$school_no\n",
    "names(school_key) = school_no_key$school_name  \n",
    "\n",
    "cep$school_no[cep$year=='2014-15'] = school_key[cep$school_name[cep$year=='2014-15']] %>% unlist() %>% as.vector()           \n",
    "\n",
    "# Control for data types\n",
    "cep$school_no = cep$school_no %>% as.character()\n",
    "debt$school_no = debt$school_no %>% as.character()\n",
    "\n",
    "# Indicator for CEP eligibility, participation\n",
    "cep$eligible[grep('X', cep$eligible)] = 1\n",
    "cep$eligible[cep$eligible!=1] = 0\n",
    "cep$eligible = cep$eligible %>% as.numeric()\n",
    "                 \n",
    "cep$participating[grep('X', cep$participating)] = 1\n",
    "cep$participating[cep$participating!=1] = 0\n",
    "cep$participating = cep$participating %>% as.numeric()\n",
    "\n",
    "# Remove unnecessary columns\n",
    "cep = cep %>% subset(., select=-c(lea_name, lea_no))\n",
    "\n",
    "# Control for conflicting school names                 \n",
    "debt = debt %>% subset(., select=-c(school_name))\n",
    "                 \n",
    "# Merge lunch debt and CEP data\n",
    "df = full_join(debt, cep, by = c('school_no', 'year'))\n",
    "                 \n",
    "# Fill missing names from CEP data\n",
    "school_key2 = names(school_key)\n",
    "names(school_key2) = school_no_key$school_no\n",
    "df$school_name[is.na(df$school_name)] = school_key2[df$school_no[is.na(df$school_name)]] %>% unlist() %>% as.vector()\n",
    "                 \n",
    "# remove DPS hospital school since non-standard school\n",
    "df = df[-which(df$school_name==\"DPS Hospital School\"),]\n",
    "\n",
    "# remove 389, 700 since no longer active\n",
    "# remove 353, housed in Durham Tech\n",
    "df = df[-which(df$school_no %in% c(389, 700, 353)),]"
   ]
  },
  {
   "cell_type": "markdown",
   "metadata": {},
   "source": [
    "### School lunch debt and CEP"
   ]
  },
  {
   "cell_type": "code",
   "execution_count": 2,
   "metadata": {},
   "outputs": [
    {
     "data": {
      "text/html": [
       "<table>\n",
       "<caption>A tibble: 9 × 2</caption>\n",
       "<thead>\n",
       "\t<tr><th scope=col>year</th><th scope=col>debt</th></tr>\n",
       "\t<tr><th scope=col>&lt;chr&gt;</th><th scope=col>&lt;dbl&gt;</th></tr>\n",
       "</thead>\n",
       "<tbody>\n",
       "\t<tr><td>2010-11</td><td>204692.22</td></tr>\n",
       "\t<tr><td>2011-12</td><td>112706.47</td></tr>\n",
       "\t<tr><td>2012-13</td><td>117526.02</td></tr>\n",
       "\t<tr><td>2013-14</td><td>108231.05</td></tr>\n",
       "\t<tr><td>2014-15</td><td> 85092.75</td></tr>\n",
       "\t<tr><td>2015-16</td><td> 78428.06</td></tr>\n",
       "\t<tr><td>2016-17</td><td>127939.71</td></tr>\n",
       "\t<tr><td>2017-18</td><td>209021.50</td></tr>\n",
       "\t<tr><td>2018-19</td><td>       NA</td></tr>\n",
       "</tbody>\n",
       "</table>\n"
      ],
      "text/latex": [
       "A tibble: 9 × 2\n",
       "\\begin{tabular}{r|ll}\n",
       " year & debt\\\\\n",
       " <chr> & <dbl>\\\\\n",
       "\\hline\n",
       "\t 2010-11 & 204692.22\\\\\n",
       "\t 2011-12 & 112706.47\\\\\n",
       "\t 2012-13 & 117526.02\\\\\n",
       "\t 2013-14 & 108231.05\\\\\n",
       "\t 2014-15 &  85092.75\\\\\n",
       "\t 2015-16 &  78428.06\\\\\n",
       "\t 2016-17 & 127939.71\\\\\n",
       "\t 2017-18 & 209021.50\\\\\n",
       "\t 2018-19 &        NA\\\\\n",
       "\\end{tabular}\n"
      ],
      "text/markdown": [
       "\n",
       "A tibble: 9 × 2\n",
       "\n",
       "| year &lt;chr&gt; | debt &lt;dbl&gt; |\n",
       "|---|---|\n",
       "| 2010-11 | 204692.22 |\n",
       "| 2011-12 | 112706.47 |\n",
       "| 2012-13 | 117526.02 |\n",
       "| 2013-14 | 108231.05 |\n",
       "| 2014-15 |  85092.75 |\n",
       "| 2015-16 |  78428.06 |\n",
       "| 2016-17 | 127939.71 |\n",
       "| 2017-18 | 209021.50 |\n",
       "| 2018-19 |        NA |\n",
       "\n"
      ],
      "text/plain": [
       "  year    debt     \n",
       "1 2010-11 204692.22\n",
       "2 2011-12 112706.47\n",
       "3 2012-13 117526.02\n",
       "4 2013-14 108231.05\n",
       "5 2014-15  85092.75\n",
       "6 2015-16  78428.06\n",
       "7 2016-17 127939.71\n",
       "8 2017-18 209021.50\n",
       "9 2018-19        NA"
      ]
     },
     "metadata": {},
     "output_type": "display_data"
    }
   ],
   "source": [
    "df %>%\n",
    "    group_by(year) %>%\n",
    "    summarise(debt = sum(unpaid))"
   ]
  },
  {
   "cell_type": "markdown",
   "metadata": {},
   "source": [
    "Last school year, Durham public schools had just over $209,000 in school lunch debt--the most the district has seen in the past eight years."
   ]
  },
  {
   "cell_type": "code",
   "execution_count": 3,
   "metadata": {},
   "outputs": [
    {
     "data": {
      "text/html": [
       "<table>\n",
       "<caption>A tibble: 9 × 3</caption>\n",
       "<thead>\n",
       "\t<tr><th scope=col>year</th><th scope=col>eligible</th><th scope=col>paricipating</th></tr>\n",
       "\t<tr><th scope=col>&lt;chr&gt;</th><th scope=col>&lt;dbl&gt;</th><th scope=col>&lt;dbl&gt;</th></tr>\n",
       "</thead>\n",
       "<tbody>\n",
       "\t<tr><td>2010-11</td><td> 0</td><td> 0</td></tr>\n",
       "\t<tr><td>2011-12</td><td> 0</td><td> 0</td></tr>\n",
       "\t<tr><td>2012-13</td><td> 0</td><td> 0</td></tr>\n",
       "\t<tr><td>2013-14</td><td> 0</td><td> 0</td></tr>\n",
       "\t<tr><td>2014-15</td><td>25</td><td> 0</td></tr>\n",
       "\t<tr><td>2015-16</td><td>27</td><td>10</td></tr>\n",
       "\t<tr><td>2016-17</td><td>28</td><td>12</td></tr>\n",
       "\t<tr><td>2017-18</td><td>25</td><td>13</td></tr>\n",
       "\t<tr><td>2018-19</td><td>30</td><td>13</td></tr>\n",
       "</tbody>\n",
       "</table>\n"
      ],
      "text/latex": [
       "A tibble: 9 × 3\n",
       "\\begin{tabular}{r|lll}\n",
       " year & eligible & paricipating\\\\\n",
       " <chr> & <dbl> & <dbl>\\\\\n",
       "\\hline\n",
       "\t 2010-11 &  0 &  0\\\\\n",
       "\t 2011-12 &  0 &  0\\\\\n",
       "\t 2012-13 &  0 &  0\\\\\n",
       "\t 2013-14 &  0 &  0\\\\\n",
       "\t 2014-15 & 25 &  0\\\\\n",
       "\t 2015-16 & 27 & 10\\\\\n",
       "\t 2016-17 & 28 & 12\\\\\n",
       "\t 2017-18 & 25 & 13\\\\\n",
       "\t 2018-19 & 30 & 13\\\\\n",
       "\\end{tabular}\n"
      ],
      "text/markdown": [
       "\n",
       "A tibble: 9 × 3\n",
       "\n",
       "| year &lt;chr&gt; | eligible &lt;dbl&gt; | paricipating &lt;dbl&gt; |\n",
       "|---|---|---|\n",
       "| 2010-11 |  0 |  0 |\n",
       "| 2011-12 |  0 |  0 |\n",
       "| 2012-13 |  0 |  0 |\n",
       "| 2013-14 |  0 |  0 |\n",
       "| 2014-15 | 25 |  0 |\n",
       "| 2015-16 | 27 | 10 |\n",
       "| 2016-17 | 28 | 12 |\n",
       "| 2017-18 | 25 | 13 |\n",
       "| 2018-19 | 30 | 13 |\n",
       "\n"
      ],
      "text/plain": [
       "  year    eligible paricipating\n",
       "1 2010-11  0        0          \n",
       "2 2011-12  0        0          \n",
       "3 2012-13  0        0          \n",
       "4 2013-14  0        0          \n",
       "5 2014-15 25        0          \n",
       "6 2015-16 27       10          \n",
       "7 2016-17 28       12          \n",
       "8 2017-18 25       13          \n",
       "9 2018-19 30       13          "
      ]
     },
     "metadata": {},
     "output_type": "display_data"
    }
   ],
   "source": [
    "df %>%\n",
    "    group_by(year) %>%\n",
    "    summarise(eligible = sum(eligible, na.rm = TRUE),\n",
    "             paricipating = sum(participating, na.rm = TRUE))"
   ]
  },
  {
   "cell_type": "markdown",
   "metadata": {},
   "source": [
    "Last year, 12 of the 25 schools eligible for CEP did not participate in the program."
   ]
  },
  {
   "cell_type": "code",
   "execution_count": 4,
   "metadata": {},
   "outputs": [
    {
     "data": {
      "text/html": [
       "0.235294117647059"
      ],
      "text/latex": [
       "0.235294117647059"
      ],
      "text/markdown": [
       "0.235294117647059"
      ],
      "text/plain": [
       "[1] 0.2352941"
      ]
     },
     "metadata": {},
     "output_type": "display_data"
    },
    {
     "data": {
      "text/html": [
       "79671.11"
      ],
      "text/latex": [
       "79671.11"
      ],
      "text/markdown": [
       "79671.11"
      ],
      "text/plain": [
       "[1] 79671.11"
      ]
     },
     "metadata": {},
     "output_type": "display_data"
    },
    {
     "data": {
      "text/html": [
       "0.381162272780551"
      ],
      "text/latex": [
       "0.381162272780551"
      ],
      "text/markdown": [
       "0.381162272780551"
      ],
      "text/plain": [
       "[1] 0.3811623"
      ]
     },
     "metadata": {},
     "output_type": "display_data"
    }
   ],
   "source": [
    "# What percent of schools are eligible and not participating in CEP?\n",
    "n = df %>%\n",
    "    filter(year=='2017-18') %>%\n",
    "    nrow()\n",
    "12/n\n",
    "\n",
    "# Percent of debt\n",
    "enp_debt = df %>%\n",
    "    filter(year=='2017-18',\n",
    "          eligible==1,\n",
    "          participating==0) %>%\n",
    "    select(unpaid) %>%\n",
    "    sum(.)\n",
    "\n",
    "enp_debt\n",
    "\n",
    "debt_1718 = sum(df$unpaid[df$year=='2017-18'])\n",
    "enp_debt/debt_1718"
   ]
  },
  {
   "cell_type": "markdown",
   "metadata": {},
   "source": [
    "Last year, 24 percent of schools account for just under 40 percent of all unpaid meals. They were all eligible for, but not participating in CEP."
   ]
  },
  {
   "cell_type": "markdown",
   "metadata": {},
   "source": [
    "### CEP and Title I"
   ]
  },
  {
   "cell_type": "markdown",
   "metadata": {},
   "source": [
    "What are the 2018-19 Title I allocation bands for Durham?"
   ]
  },
  {
   "cell_type": "code",
   "execution_count": 9,
   "metadata": {},
   "outputs": [
    {
     "data": {
      "text/html": [
       "<table>\n",
       "<caption>A tibble: 4 × 3</caption>\n",
       "<thead>\n",
       "\t<tr><th scope=col>allocation_per_pupil</th><th scope=col>lower</th><th scope=col>upper</th></tr>\n",
       "\t<tr><th scope=col>&lt;dbl&gt;</th><th scope=col>&lt;dbl&gt;</th><th scope=col>&lt;dbl&gt;</th></tr>\n",
       "</thead>\n",
       "<tbody>\n",
       "\t<tr><td>440.54</td><td>0.3882</td><td>0.5723</td></tr>\n",
       "\t<tr><td>450.00</td><td>0.6196</td><td>0.7358</td></tr>\n",
       "\t<tr><td>464.00</td><td>0.8297</td><td>0.8583</td></tr>\n",
       "\t<tr><td>477.00</td><td>0.8874</td><td>1.0000</td></tr>\n",
       "</tbody>\n",
       "</table>\n"
      ],
      "text/latex": [
       "A tibble: 4 × 3\n",
       "\\begin{tabular}{r|lll}\n",
       " allocation\\_per\\_pupil & lower & upper\\\\\n",
       " <dbl> & <dbl> & <dbl>\\\\\n",
       "\\hline\n",
       "\t 440.54 & 0.3882 & 0.5723\\\\\n",
       "\t 450.00 & 0.6196 & 0.7358\\\\\n",
       "\t 464.00 & 0.8297 & 0.8583\\\\\n",
       "\t 477.00 & 0.8874 & 1.0000\\\\\n",
       "\\end{tabular}\n"
      ],
      "text/markdown": [
       "\n",
       "A tibble: 4 × 3\n",
       "\n",
       "| allocation_per_pupil &lt;dbl&gt; | lower &lt;dbl&gt; | upper &lt;dbl&gt; |\n",
       "|---|---|---|\n",
       "| 440.54 | 0.3882 | 0.5723 |\n",
       "| 450.00 | 0.6196 | 0.7358 |\n",
       "| 464.00 | 0.8297 | 0.8583 |\n",
       "| 477.00 | 0.8874 | 1.0000 |\n",
       "\n"
      ],
      "text/plain": [
       "  allocation_per_pupil lower  upper \n",
       "1 440.54               0.3882 0.5723\n",
       "2 450.00               0.6196 0.7358\n",
       "3 464.00               0.8297 0.8583\n",
       "4 477.00               0.8874 1.0000"
      ]
     },
     "metadata": {},
     "output_type": "display_data"
    }
   ],
   "source": [
    "bands %>%\n",
    "    group_by(allocation_per_pupil) %>%\n",
    "    summarise(lower = min(percent_low_income),\n",
    "             upper = max(percent_low_income))"
   ]
  },
  {
   "cell_type": "markdown",
   "metadata": {},
   "source": [
    "How would Title I allocations in Durham Public Schools change if all schools eligible for CEP participated?"
   ]
  },
  {
   "cell_type": "code",
   "execution_count": 5,
   "metadata": {},
   "outputs": [
    {
     "data": {
      "text/html": [
       "<table>\n",
       "<caption>A data.frame: 16 × 5</caption>\n",
       "<thead>\n",
       "\t<tr><th scope=col>rank_before</th><th scope=col>rank_after</th><th scope=col>school_name</th><th scope=col>percent_low_income</th><th scope=col>percent_with_cep</th></tr>\n",
       "\t<tr><th scope=col>&lt;int&gt;</th><th scope=col>&lt;int&gt;</th><th scope=col>&lt;chr&gt;</th><th scope=col>&lt;dbl&gt;</th><th scope=col>&lt;dbl&gt;</th></tr>\n",
       "</thead>\n",
       "<tbody>\n",
       "\t<tr><td>14</td><td> 9</td><td>James E Shepard Middle   </td><td>0.8425</td><td>0.9440</td></tr>\n",
       "\t<tr><td> 9</td><td>10</td><td>Merrick-Moore Elementary </td><td>0.9159</td><td>0.9159</td></tr>\n",
       "\t<tr><td>10</td><td>12</td><td>Burton Elementary        </td><td>0.8874</td><td>0.8874</td></tr>\n",
       "\t<tr><td>12</td><td>13</td><td>R N Harris Elementary    </td><td>0.8520</td><td>0.8520</td></tr>\n",
       "\t<tr><td>15</td><td>14</td><td>Brogden Middle           </td><td>0.8416</td><td>0.8480</td></tr>\n",
       "\t<tr><td>21</td><td>15</td><td>Parkwood Elementary      </td><td>0.6713</td><td>0.8480</td></tr>\n",
       "\t<tr><td>13</td><td>16</td><td>Neal Middle              </td><td>0.8450</td><td>0.8320</td></tr>\n",
       "\t<tr><td>16</td><td>17</td><td>Bethesda Elementary      </td><td>0.8300</td><td>0.8300</td></tr>\n",
       "\t<tr><td>23</td><td>19</td><td>Sandy Ridge Elementary   </td><td>0.6545</td><td>0.7840</td></tr>\n",
       "\t<tr><td>17</td><td>20</td><td>Holt Elementary          </td><td>0.8297</td><td>0.7520</td></tr>\n",
       "\t<tr><td>19</td><td>21</td><td>Hillandale Elementary    </td><td>0.6820</td><td>0.7200</td></tr>\n",
       "\t<tr><td>20</td><td>22</td><td>Hope Valley Elementary   </td><td>0.6808</td><td>0.6880</td></tr>\n",
       "\t<tr><td>26</td><td>23</td><td>Southwest Elementary     </td><td>0.5723</td><td>0.6880</td></tr>\n",
       "\t<tr><td>22</td><td>24</td><td>Spring Valley Elementary </td><td>0.6578</td><td>0.6578</td></tr>\n",
       "\t<tr><td>24</td><td>25</td><td>Club Boulevard Elementary</td><td>0.6228</td><td>0.6228</td></tr>\n",
       "\t<tr><td>25</td><td>26</td><td>Forest View Elementary   </td><td>0.6196</td><td>0.6196</td></tr>\n",
       "</tbody>\n",
       "</table>\n"
      ],
      "text/latex": [
       "A data.frame: 16 × 5\n",
       "\\begin{tabular}{r|lllll}\n",
       " rank\\_before & rank\\_after & school\\_name & percent\\_low\\_income & percent\\_with\\_cep\\\\\n",
       " <int> & <int> & <chr> & <dbl> & <dbl>\\\\\n",
       "\\hline\n",
       "\t 14 &  9 & James E Shepard Middle    & 0.8425 & 0.9440\\\\\n",
       "\t  9 & 10 & Merrick-Moore Elementary  & 0.9159 & 0.9159\\\\\n",
       "\t 10 & 12 & Burton Elementary         & 0.8874 & 0.8874\\\\\n",
       "\t 12 & 13 & R N Harris Elementary     & 0.8520 & 0.8520\\\\\n",
       "\t 15 & 14 & Brogden Middle            & 0.8416 & 0.8480\\\\\n",
       "\t 21 & 15 & Parkwood Elementary       & 0.6713 & 0.8480\\\\\n",
       "\t 13 & 16 & Neal Middle               & 0.8450 & 0.8320\\\\\n",
       "\t 16 & 17 & Bethesda Elementary       & 0.8300 & 0.8300\\\\\n",
       "\t 23 & 19 & Sandy Ridge Elementary    & 0.6545 & 0.7840\\\\\n",
       "\t 17 & 20 & Holt Elementary           & 0.8297 & 0.7520\\\\\n",
       "\t 19 & 21 & Hillandale Elementary     & 0.6820 & 0.7200\\\\\n",
       "\t 20 & 22 & Hope Valley Elementary    & 0.6808 & 0.6880\\\\\n",
       "\t 26 & 23 & Southwest Elementary      & 0.5723 & 0.6880\\\\\n",
       "\t 22 & 24 & Spring Valley Elementary  & 0.6578 & 0.6578\\\\\n",
       "\t 24 & 25 & Club Boulevard Elementary & 0.6228 & 0.6228\\\\\n",
       "\t 25 & 26 & Forest View Elementary    & 0.6196 & 0.6196\\\\\n",
       "\\end{tabular}\n"
      ],
      "text/markdown": [
       "\n",
       "A data.frame: 16 × 5\n",
       "\n",
       "| rank_before &lt;int&gt; | rank_after &lt;int&gt; | school_name &lt;chr&gt; | percent_low_income &lt;dbl&gt; | percent_with_cep &lt;dbl&gt; |\n",
       "|---|---|---|---|---|\n",
       "| 14 |  9 | James E Shepard Middle    | 0.8425 | 0.9440 |\n",
       "|  9 | 10 | Merrick-Moore Elementary  | 0.9159 | 0.9159 |\n",
       "| 10 | 12 | Burton Elementary         | 0.8874 | 0.8874 |\n",
       "| 12 | 13 | R N Harris Elementary     | 0.8520 | 0.8520 |\n",
       "| 15 | 14 | Brogden Middle            | 0.8416 | 0.8480 |\n",
       "| 21 | 15 | Parkwood Elementary       | 0.6713 | 0.8480 |\n",
       "| 13 | 16 | Neal Middle               | 0.8450 | 0.8320 |\n",
       "| 16 | 17 | Bethesda Elementary       | 0.8300 | 0.8300 |\n",
       "| 23 | 19 | Sandy Ridge Elementary    | 0.6545 | 0.7840 |\n",
       "| 17 | 20 | Holt Elementary           | 0.8297 | 0.7520 |\n",
       "| 19 | 21 | Hillandale Elementary     | 0.6820 | 0.7200 |\n",
       "| 20 | 22 | Hope Valley Elementary    | 0.6808 | 0.6880 |\n",
       "| 26 | 23 | Southwest Elementary      | 0.5723 | 0.6880 |\n",
       "| 22 | 24 | Spring Valley Elementary  | 0.6578 | 0.6578 |\n",
       "| 24 | 25 | Club Boulevard Elementary | 0.6228 | 0.6228 |\n",
       "| 25 | 26 | Forest View Elementary    | 0.6196 | 0.6196 |\n",
       "\n"
      ],
      "text/plain": [
       "   rank_before rank_after school_name               percent_low_income\n",
       "1  14           9         James E Shepard Middle    0.8425            \n",
       "2   9          10         Merrick-Moore Elementary  0.9159            \n",
       "3  10          12         Burton Elementary         0.8874            \n",
       "4  12          13         R N Harris Elementary     0.8520            \n",
       "5  15          14         Brogden Middle            0.8416            \n",
       "6  21          15         Parkwood Elementary       0.6713            \n",
       "7  13          16         Neal Middle               0.8450            \n",
       "8  16          17         Bethesda Elementary       0.8300            \n",
       "9  23          19         Sandy Ridge Elementary    0.6545            \n",
       "10 17          20         Holt Elementary           0.8297            \n",
       "11 19          21         Hillandale Elementary     0.6820            \n",
       "12 20          22         Hope Valley Elementary    0.6808            \n",
       "13 26          23         Southwest Elementary      0.5723            \n",
       "14 22          24         Spring Valley Elementary  0.6578            \n",
       "15 24          25         Club Boulevard Elementary 0.6228            \n",
       "16 25          26         Forest View Elementary    0.6196            \n",
       "   percent_with_cep\n",
       "1  0.9440          \n",
       "2  0.9159          \n",
       "3  0.8874          \n",
       "4  0.8520          \n",
       "5  0.8480          \n",
       "6  0.8480          \n",
       "7  0.8320          \n",
       "8  0.8300          \n",
       "9  0.7840          \n",
       "10 0.7520          \n",
       "11 0.7200          \n",
       "12 0.6880          \n",
       "13 0.6880          \n",
       "14 0.6578          \n",
       "15 0.6228          \n",
       "16 0.6196          "
      ]
     },
     "metadata": {},
     "output_type": "display_data"
    }
   ],
   "source": [
    "# Calculate ISP with multiplier\n",
    "df$isp_mult = df$isp*1.6\n",
    "\n",
    "cep$school_no = cep$school_no %>% as.numeric()\n",
    "bands$school_no = bands$school_no %>% as.numeric()\n",
    "\n",
    "# Save rank before\n",
    "bands = bands %>% \n",
    "    arrange(-percent_low_income)\n",
    "bands$rank_before = seq(1,nrow(bands))\n",
    "\n",
    "# Index of eligible, non-participating CEP schools for 2018-19 and ISP*1.6 percentages\n",
    "cep_enp = df %>%\n",
    "    filter(year=='2018-19',\n",
    "          eligible==1,\n",
    "          participating==0) %>%\n",
    "    select(school_no, isp_mult) %>%\n",
    "    as.list()\n",
    "names(cep_enp$isp_mult) = cep_enp$school_no\n",
    "\n",
    "# Replace percentages\n",
    "bands$percent_with_cep = bands$percent_low_income\n",
    "ix = which(bands$school_no %in% cep_enp$school_no) # Index\n",
    "toReplace = bands$school_no[ix] # School number\n",
    "newVal = cep_enp$isp_mult[as.character(toReplace)] %>% unlist() %>% as.vector() # Value to replace\n",
    "bands$percent_with_cep[ix] = newVal # Replace\n",
    "\n",
    "# Calculate new rankings\n",
    "bands = bands %>% \n",
    "    arrange(-percent_with_cep)\n",
    "bands$rank_after = seq(1,nrow(bands))\n",
    "\n",
    "# How many schools shifted ranks?\n",
    "bands %>%\n",
    "    filter(rank_before != rank_after) %>%\n",
    "    select(rank_before, rank_after, school_name, percent_low_income, percent_with_cep)"
   ]
  },
  {
   "cell_type": "markdown",
   "metadata": {},
   "source": [
    "If every school eligible for CEP had participated, 16 schools would have shifted in the ranks used to determine Title I funding."
   ]
  },
  {
   "cell_type": "code",
   "execution_count": 6,
   "metadata": {},
   "outputs": [
    {
     "data": {
      "text/html": [
       "<table>\n",
       "<caption>A tibble: 4 × 2</caption>\n",
       "<thead>\n",
       "\t<tr><th scope=col>allocation_per_pupil</th><th scope=col>n</th></tr>\n",
       "\t<tr><th scope=col>&lt;dbl&gt;</th><th scope=col>&lt;int&gt;</th></tr>\n",
       "</thead>\n",
       "<tbody>\n",
       "\t<tr><td>440.54</td><td> 5</td></tr>\n",
       "\t<tr><td>450.00</td><td> 8</td></tr>\n",
       "\t<tr><td>464.00</td><td> 7</td></tr>\n",
       "\t<tr><td>477.00</td><td>10</td></tr>\n",
       "</tbody>\n",
       "</table>\n"
      ],
      "text/latex": [
       "A tibble: 4 × 2\n",
       "\\begin{tabular}{r|ll}\n",
       " allocation\\_per\\_pupil & n\\\\\n",
       " <dbl> & <int>\\\\\n",
       "\\hline\n",
       "\t 440.54 &  5\\\\\n",
       "\t 450.00 &  8\\\\\n",
       "\t 464.00 &  7\\\\\n",
       "\t 477.00 & 10\\\\\n",
       "\\end{tabular}\n"
      ],
      "text/markdown": [
       "\n",
       "A tibble: 4 × 2\n",
       "\n",
       "| allocation_per_pupil &lt;dbl&gt; | n &lt;int&gt; |\n",
       "|---|---|\n",
       "| 440.54 |  5 |\n",
       "| 450.00 |  8 |\n",
       "| 464.00 |  7 |\n",
       "| 477.00 | 10 |\n",
       "\n"
      ],
      "text/plain": [
       "  allocation_per_pupil n \n",
       "1 440.54                5\n",
       "2 450.00                8\n",
       "3 464.00                7\n",
       "4 477.00               10"
      ]
     },
     "metadata": {},
     "output_type": "display_data"
    }
   ],
   "source": [
    "# Estimate changes in funding\n",
    "# First, find number of schools in each band\n",
    "banding = bands %>%\n",
    "    group_by(allocation_per_pupil) %>%\n",
    "    summarise(n = n())\n",
    "banding"
   ]
  },
  {
   "cell_type": "markdown",
   "metadata": {},
   "source": [
    "There are 10 schools in the highest band, 7 in the next, then 8, then 5."
   ]
  },
  {
   "cell_type": "code",
   "execution_count": 7,
   "metadata": {},
   "outputs": [
    {
     "data": {
      "text/html": [
       "<table>\n",
       "<caption>A tibble: 30 × 2</caption>\n",
       "<thead>\n",
       "\t<tr><th scope=col>school_name</th><th scope=col>change_in_funding</th></tr>\n",
       "\t<tr><th scope=col>&lt;chr&gt;</th><th scope=col>&lt;dbl&gt;</th></tr>\n",
       "</thead>\n",
       "<tbody>\n",
       "\t<tr><td>Holt Elementary               </td><td>-31830.00</td></tr>\n",
       "\t<tr><td>Neal Middle                   </td><td> -4640.00</td></tr>\n",
       "\t<tr><td>Forest View Elementary        </td><td> -4436.74</td></tr>\n",
       "\t<tr><td>Burton Elementary             </td><td> -4303.00</td></tr>\n",
       "\t<tr><td>Bethesda Elementary           </td><td>     0.00</td></tr>\n",
       "\t<tr><td>C C Spaulding Elementary      </td><td>     0.00</td></tr>\n",
       "\t<tr><td>Club Boulevard Elementary     </td><td>     0.00</td></tr>\n",
       "\t<tr><td>Creekside Elementary          </td><td>     0.00</td></tr>\n",
       "\t<tr><td>E K Powe Elementary           </td><td>     0.00</td></tr>\n",
       "\t<tr><td>Eastway Elementary            </td><td>     0.00</td></tr>\n",
       "\t<tr><td>Eno Valley Elementary         </td><td>     0.00</td></tr>\n",
       "\t<tr><td>Fayetteville Street Elementary</td><td>     0.00</td></tr>\n",
       "\t<tr><td>George Watts Elementary       </td><td>     0.00</td></tr>\n",
       "\t<tr><td>Glenn Elementary              </td><td>     0.00</td></tr>\n",
       "\t<tr><td>Lakewood Elementary           </td><td>     0.00</td></tr>\n",
       "\t<tr><td>Little River Elementary       </td><td>     0.00</td></tr>\n",
       "\t<tr><td>Merrick-Moore Elementary      </td><td>     0.00</td></tr>\n",
       "\t<tr><td>R N Harris Elementary         </td><td>     0.00</td></tr>\n",
       "\t<tr><td>Spring Valley Elementary      </td><td>     0.00</td></tr>\n",
       "\t<tr><td>W G Pearson Elementary        </td><td>     0.00</td></tr>\n",
       "\t<tr><td>Y E Smith Elementary          </td><td>     0.00</td></tr>\n",
       "\t<tr><td>Brogden Middle                </td><td>  1856.00</td></tr>\n",
       "\t<tr><td>Hope Valley Elementary        </td><td>  2250.00</td></tr>\n",
       "\t<tr><td>Hillandale Elementary         </td><td> 11700.00</td></tr>\n",
       "\t<tr><td>Oak Grove Elementary          </td><td> 14850.00</td></tr>\n",
       "\t<tr><td>Lowe's Grove Middle           </td><td> 15312.00</td></tr>\n",
       "\t<tr><td>James E Shepard Middle        </td><td> 29206.00</td></tr>\n",
       "\t<tr><td>Sandy Ridge Elementary        </td><td> 36900.00</td></tr>\n",
       "\t<tr><td>Southwest Elementary          </td><td> 38206.96</td></tr>\n",
       "\t<tr><td>Parkwood Elementary           </td><td> 53224.00</td></tr>\n",
       "</tbody>\n",
       "</table>\n"
      ],
      "text/latex": [
       "A tibble: 30 × 2\n",
       "\\begin{tabular}{r|ll}\n",
       " school\\_name & change\\_in\\_funding\\\\\n",
       " <chr> & <dbl>\\\\\n",
       "\\hline\n",
       "\t Holt Elementary                & -31830.00\\\\\n",
       "\t Neal Middle                    &  -4640.00\\\\\n",
       "\t Forest View Elementary         &  -4436.74\\\\\n",
       "\t Burton Elementary              &  -4303.00\\\\\n",
       "\t Bethesda Elementary            &      0.00\\\\\n",
       "\t C C Spaulding Elementary       &      0.00\\\\\n",
       "\t Club Boulevard Elementary      &      0.00\\\\\n",
       "\t Creekside Elementary           &      0.00\\\\\n",
       "\t E K Powe Elementary            &      0.00\\\\\n",
       "\t Eastway Elementary             &      0.00\\\\\n",
       "\t Eno Valley Elementary          &      0.00\\\\\n",
       "\t Fayetteville Street Elementary &      0.00\\\\\n",
       "\t George Watts Elementary        &      0.00\\\\\n",
       "\t Glenn Elementary               &      0.00\\\\\n",
       "\t Lakewood Elementary            &      0.00\\\\\n",
       "\t Little River Elementary        &      0.00\\\\\n",
       "\t Merrick-Moore Elementary       &      0.00\\\\\n",
       "\t R N Harris Elementary          &      0.00\\\\\n",
       "\t Spring Valley Elementary       &      0.00\\\\\n",
       "\t W G Pearson Elementary         &      0.00\\\\\n",
       "\t Y E Smith Elementary           &      0.00\\\\\n",
       "\t Brogden Middle                 &   1856.00\\\\\n",
       "\t Hope Valley Elementary         &   2250.00\\\\\n",
       "\t Hillandale Elementary          &  11700.00\\\\\n",
       "\t Oak Grove Elementary           &  14850.00\\\\\n",
       "\t Lowe's Grove Middle            &  15312.00\\\\\n",
       "\t James E Shepard Middle         &  29206.00\\\\\n",
       "\t Sandy Ridge Elementary         &  36900.00\\\\\n",
       "\t Southwest Elementary           &  38206.96\\\\\n",
       "\t Parkwood Elementary            &  53224.00\\\\\n",
       "\\end{tabular}\n"
      ],
      "text/markdown": [
       "\n",
       "A tibble: 30 × 2\n",
       "\n",
       "| school_name &lt;chr&gt; | change_in_funding &lt;dbl&gt; |\n",
       "|---|---|\n",
       "| Holt Elementary                | -31830.00 |\n",
       "| Neal Middle                    |  -4640.00 |\n",
       "| Forest View Elementary         |  -4436.74 |\n",
       "| Burton Elementary              |  -4303.00 |\n",
       "| Bethesda Elementary            |      0.00 |\n",
       "| C C Spaulding Elementary       |      0.00 |\n",
       "| Club Boulevard Elementary      |      0.00 |\n",
       "| Creekside Elementary           |      0.00 |\n",
       "| E K Powe Elementary            |      0.00 |\n",
       "| Eastway Elementary             |      0.00 |\n",
       "| Eno Valley Elementary          |      0.00 |\n",
       "| Fayetteville Street Elementary |      0.00 |\n",
       "| George Watts Elementary        |      0.00 |\n",
       "| Glenn Elementary               |      0.00 |\n",
       "| Lakewood Elementary            |      0.00 |\n",
       "| Little River Elementary        |      0.00 |\n",
       "| Merrick-Moore Elementary       |      0.00 |\n",
       "| R N Harris Elementary          |      0.00 |\n",
       "| Spring Valley Elementary       |      0.00 |\n",
       "| W G Pearson Elementary         |      0.00 |\n",
       "| Y E Smith Elementary           |      0.00 |\n",
       "| Brogden Middle                 |   1856.00 |\n",
       "| Hope Valley Elementary         |   2250.00 |\n",
       "| Hillandale Elementary          |  11700.00 |\n",
       "| Oak Grove Elementary           |  14850.00 |\n",
       "| Lowe's Grove Middle            |  15312.00 |\n",
       "| James E Shepard Middle         |  29206.00 |\n",
       "| Sandy Ridge Elementary         |  36900.00 |\n",
       "| Southwest Elementary           |  38206.96 |\n",
       "| Parkwood Elementary            |  53224.00 |\n",
       "\n"
      ],
      "text/plain": [
       "   school_name                    change_in_funding\n",
       "1  Holt Elementary                -31830.00        \n",
       "2  Neal Middle                     -4640.00        \n",
       "3  Forest View Elementary          -4436.74        \n",
       "4  Burton Elementary               -4303.00        \n",
       "5  Bethesda Elementary                 0.00        \n",
       "6  C C Spaulding Elementary            0.00        \n",
       "7  Club Boulevard Elementary           0.00        \n",
       "8  Creekside Elementary                0.00        \n",
       "9  E K Powe Elementary                 0.00        \n",
       "10 Eastway Elementary                  0.00        \n",
       "11 Eno Valley Elementary               0.00        \n",
       "12 Fayetteville Street Elementary      0.00        \n",
       "13 George Watts Elementary             0.00        \n",
       "14 Glenn Elementary                    0.00        \n",
       "15 Lakewood Elementary                 0.00        \n",
       "16 Little River Elementary             0.00        \n",
       "17 Merrick-Moore Elementary            0.00        \n",
       "18 R N Harris Elementary               0.00        \n",
       "19 Spring Valley Elementary            0.00        \n",
       "20 W G Pearson Elementary              0.00        \n",
       "21 Y E Smith Elementary                0.00        \n",
       "22 Brogden Middle                   1856.00        \n",
       "23 Hope Valley Elementary           2250.00        \n",
       "24 Hillandale Elementary           11700.00        \n",
       "25 Oak Grove Elementary            14850.00        \n",
       "26 Lowe's Grove Middle             15312.00        \n",
       "27 James E Shepard Middle          29206.00        \n",
       "28 Sandy Ridge Elementary          36900.00        \n",
       "29 Southwest Elementary            38206.96        \n",
       "30 Parkwood Elementary             53224.00        "
      ]
     },
     "metadata": {},
     "output_type": "display_data"
    }
   ],
   "source": [
    "# Bands already sorted by CEP \n",
    "# Change allocations based on rank, assuming same n and amount\n",
    "bands$allocation_with_cep = bands$allocation_per_pupil\n",
    "bands$allocation_with_cep[1:10] = 477\n",
    "bands$allocation_with_cep[11:17] = 464\n",
    "bands$allocation_with_cep[18:25] = 450\n",
    "bands$allocation_with_cep[26:nrow(bands)] = 440.54\n",
    "\n",
    "# Estimate total allocation change \n",
    "# First calculate new n low income students based on new percentage\n",
    "n_with_cep = ceiling((bands$n_low_income/bands$percent_low_income)*bands$percent_with_cep)\n",
    "bands$estimated_allocation = bands$allocation_with_cep*n_with_cep\n",
    "\n",
    "# Calculate estimated in allocations\n",
    "bands %>%\n",
    "    group_by(school_name) %>%\n",
    "    summarise(change_in_funding = round(estimated_allocation - actual_allocation,2)) %>%\n",
    "    arrange(change_in_funding)"
   ]
  },
  {
   "cell_type": "markdown",
   "metadata": {},
   "source": [
    "According to our analysis, most schools would see no change in Title I funding had all eligible CEP schools participated. More specifically, our analysis estimates that three schools would lose just under \\$5,000 while Holt Elementary could lose over \\$30,000 in Title I funding."
   ]
  }
 ],
 "metadata": {
  "kernelspec": {
   "display_name": "R",
   "language": "R",
   "name": "ir"
  },
  "language_info": {
   "codemirror_mode": "r",
   "file_extension": ".r",
   "mimetype": "text/x-r-source",
   "name": "R",
   "pygments_lexer": "r",
   "version": "3.6.0"
  }
 },
 "nbformat": 4,
 "nbformat_minor": 2
}
